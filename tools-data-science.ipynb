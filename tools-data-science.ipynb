{
 "cells": [
  {
   "cell_type": "code",
   "execution_count": 1,
   "metadata": {},
   "outputs": [],
   "source": [
    "#Exercise 2 - Create a markdown cell with the title of the notebook."
   ]
  },
  {
   "attachments": {},
   "cell_type": "markdown",
   "metadata": {},
   "source": [
    "# Tools for Data Science"
   ]
  },
  {
   "cell_type": "code",
   "execution_count": 2,
   "metadata": {},
   "outputs": [],
   "source": [
    "#Exercise 3 - Create a markdown cell for an introduction"
   ]
  },
  {
   "attachments": {},
   "cell_type": "markdown",
   "metadata": {},
   "source": [
    "# Introduction to Tools of Data Science\n",
    "\n",
    "Data science is an interdisciplinary field that involves the extraction of insights and knowledge from data using various statistical, mathematical, and computational techniques. To work with data effectively, data scientists use a wide range of tools, software, and platforms to manage, analyze, and visualize data. "
   ]
  },
  {
   "cell_type": "code",
   "execution_count": 3,
   "metadata": {},
   "outputs": [],
   "source": [
    "#Exercise 4 - Create a markdown cell to list data science languages"
   ]
  },
  {
   "attachments": {},
   "cell_type": "markdown",
   "metadata": {},
   "source": [
    "# Popular Data Science Languages\n",
    "\n",
    "Data science involves the use of various programming languages to extract insights and knowledge from data. Some of the most popular programming languages used in data science include:\n",
    "\n",
    "- **Python**: Python is one of the most widely used programming languages in data science due to its simplicity, readability, and powerful data analysis libraries such as NumPy, Pandas, and Matplotlib.\n",
    "\n",
    "- **R**: R is another popular language for data science, especially in the field of statistics. It has a wide range of data manipulation and visualization libraries such as ggplot2 and dplyr.\n",
    "\n",
    "- **SQL**: SQL is a query language used for managing and querying large databases. It is a powerful tool for working with structured data.\n",
    "\n",
    "- **Java**: Java is commonly used for big data processing and machine learning due to its performance and scalability.\n",
    "\n",
    "- **Scala**: Scala is another language used for big data processing and is often used alongside Apache Spark.\n",
    "\n",
    "- **Julia**: Julia is a newer language gaining popularity in data science due to its performance and ease of use.\n",
    "\n"
   ]
  },
  {
   "cell_type": "code",
   "execution_count": 5,
   "metadata": {},
   "outputs": [],
   "source": [
    "#Exercise 5 - Create a markdown cell to list data science libraries."
   ]
  },
  {
   "attachments": {},
   "cell_type": "markdown",
   "metadata": {},
   "source": [
    "# Popular Data Science Libraries\n",
    "\n",
    "Data science libraries are essential tools for working with data and extracting insights. Some of the most popular libraries used in data science include:\n",
    "\n",
    "- **NumPy**: NumPy is a fundamental library for numerical computing in Python. It provides powerful array and matrix operations, as well as linear algebra and Fourier transform capabilities.\n",
    "\n",
    "- **Pandas**: Pandas is a library for data manipulation and analysis in Python. It provides tools for reading and writing various data formats, handling missing data, and performing data aggregation and transformation.\n",
    "\n",
    "- **Matplotlib**: Matplotlib is a plotting library in Python that provides a wide range of 2D and 3D visualization options.\n",
    "\n",
    "- **Seaborn**: Seaborn is a Python library that is built on top of Matplotlib and provides more advanced visualization capabilities, such as statistical plotting, heatmaps, and regression plots.\n",
    "\n",
    "- **Scikit-learn**: Scikit-learn is a popular library for machine learning in Python. It provides a wide range of algorithms for classification, regression, clustering, and dimensionality reduction, as well as tools for model selection and evaluation.\n",
    "\n",
    "- **TensorFlow**: TensorFlow is an open-source library for machine learning developed by Google. It provides a framework for building and training deep neural networks, as well as tools for data preprocessing and model deployment.\n",
    "\n",
    "- **PyTorch**: PyTorch is another open-source library for machine learning, developed by Facebook. It provides similar capabilities as TensorFlow but with a more user-friendly interface and dynamic computation graph.\n"
   ]
  },
  {
   "cell_type": "code",
   "execution_count": 6,
   "metadata": {},
   "outputs": [],
   "source": [
    "#Exercise 6 - Create a markdown cell with a table of Data Science tools"
   ]
  },
  {
   "attachments": {},
   "cell_type": "markdown",
   "metadata": {},
   "source": [
    "# Data Science Tools\n",
    "\n",
    "| Type of Tool          | Examples of Tools                                    |\n",
    "|-----------------------|------------------------------------------------------|\n",
    "| Programming Languages | Python, R, SQL, Java, Scala, Julia                    |\n",
    "| Data Analysis Tools   | Pandas, NumPy, Matplotlib, Seaborn, Power BI, Tableau |\n",
    "| Machine Learning      | Scikit-learn, TensorFlow, PyTorch, Keras              |\n",
    "| Big Data Platforms    | Hadoop, Spark, Kafka, Hive                            |\n",
    "| Data Visualization    | D3.js, ggplot2, Bokeh, Plotly                         |\n",
    "| Notebooks             | Jupyter, Zeppelin                                    |\n",
    "| Data Extraction       | BeautifulSoup, Scrapy, Requests                       |\n",
    "| Database Management   | MySQL, PostgreSQL, MongoDB, Cassandra                |\n",
    "| Cloud Platforms       | AWS, Google Cloud, Microsoft Azure                    |\n"
   ]
  },
  {
   "cell_type": "code",
   "execution_count": 8,
   "metadata": {},
   "outputs": [],
   "source": [
    "#Exercise 7 - Create a markdown cell introducing arithmetic expression examples. "
   ]
  },
  {
   "attachments": {},
   "cell_type": "markdown",
   "metadata": {},
   "source": [
    "# Arithmetic Expressions\n",
    "\n",
    "Arithmetic expressions are mathematical expressions that involve operators such as addition, subtraction, multiplication, and division. These expressions are commonly used in data science for performing calculations and manipulating data.\n",
    "\n",
    "Here are some examples of arithmetic expressions:\n",
    "\n",
    "- Addition: `2 + 3` evaluates to `5`.\n",
    "- Subtraction: `10 - 5` evaluates to `5`.\n",
    "- Multiplication: `4 * 5` evaluates to `20`.\n",
    "- Division: `10 / 2` evaluates to `5`.\n",
    "- Exponentiation: `2 ** 3` (2 raised to the power of 3) evaluates to `8`.\n",
    "- Modulo: `10 % 3` (remainder of 10 divided by 3) evaluates to `1`.\n",
    "\n",
    "In Python, arithmetic expressions are evaluated using operator precedence, with parentheses used to group operations together when necessary. The order of precedence, from highest to lowest, is as follows:\n",
    "\n",
    "1. Parentheses\n",
    "2. Exponentiation\n",
    "3. Multiplication, division, and modulo (evaluated from left to right)\n",
    "4. Addition and subtraction (evaluated from left to right)\n",
    "\n",
    "By using arithmetic expressions, data scientists can perform calculations on data and manipulate it to extract useful insights and information.\n"
   ]
  },
  {
   "cell_type": "code",
   "execution_count": 9,
   "metadata": {},
   "outputs": [],
   "source": [
    "#Exercise 8 - Create a code cell to multiply and add numbers."
   ]
  },
  {
   "cell_type": "code",
   "execution_count": 10,
   "metadata": {},
   "outputs": [
    {
     "name": "stdout",
     "output_type": "stream",
     "text": [
      "x = 50\n",
      "y = 52\n"
     ]
    }
   ],
   "source": [
    "# Multiplication and Addition\n",
    "a = 5\n",
    "b = 10\n",
    "c = 2\n",
    "\n",
    "# Multiply a and b and store the result in variable x\n",
    "x = a * b\n",
    "\n",
    "# Add c to x and store the result in variable y\n",
    "y = x + c\n",
    "\n",
    "# Print the values of x and y\n",
    "print(\"x =\", x)\n",
    "print(\"y =\", y)\n"
   ]
  },
  {
   "cell_type": "code",
   "execution_count": 11,
   "metadata": {},
   "outputs": [],
   "source": [
    "#Exercise 9 - Create a code cell to convert minutes to hours"
   ]
  },
  {
   "cell_type": "code",
   "execution_count": 12,
   "metadata": {},
   "outputs": [
    {
     "name": "stdout",
     "output_type": "stream",
     "text": [
      "There are 2.0 hours in 120 minutes.\n"
     ]
    }
   ],
   "source": [
    "# Convert minutes to hours\n",
    "minutes = 120\n",
    "\n",
    "# Calculate the number of hours\n",
    "hours = minutes / 60\n",
    "\n",
    "# Print the result\n",
    "print(\"There are\", hours, \"hours in\", minutes, \"minutes.\")\n"
   ]
  },
  {
   "cell_type": "code",
   "execution_count": 13,
   "metadata": {},
   "outputs": [],
   "source": [
    "#Exercise 10 -Insert a markdown cell to list Objectives"
   ]
  },
  {
   "attachments": {},
   "cell_type": "markdown",
   "metadata": {},
   "source": [
    "# Objectives\n",
    "\n",
    "The objectives of this notebook are:\n",
    "\n",
    "1. To introduce the tools and libraries commonly used in data science.\n",
    "2. To demonstrate how to perform basic arithmetic operations in Python.\n",
    "3. To showcase how to convert units of measurement in Python.\n",
    "4. To provide examples of how to read and manipulate data using Python libraries.\n",
    "5. To explore common machine learning algorithms and demonstrate how to apply them to data.\n",
    "6. To demonstrate how to visualize data using Python libraries.\n",
    "7. To provide practical examples of how to apply data science techniques to real-world problems."
   ]
  },
  {
   "cell_type": "code",
   "execution_count": 14,
   "metadata": {},
   "outputs": [],
   "source": [
    "#Exercise 11 - Create a markdown cell to indicate the Author’s name."
   ]
  },
  {
   "attachments": {},
   "cell_type": "markdown",
   "metadata": {},
   "source": [
    "# Author\n",
    "\n",
    "This notebook was created by Jana, a data scientist with 0 years of experience in the field. \n"
   ]
  },
  {
   "cell_type": "code",
   "execution_count": null,
   "metadata": {},
   "outputs": [],
   "source": []
  }
 ],
 "metadata": {
  "kernelspec": {
   "display_name": "base",
   "language": "python",
   "name": "python3"
  },
  "language_info": {
   "codemirror_mode": {
    "name": "ipython",
    "version": 3
   },
   "file_extension": ".py",
   "mimetype": "text/x-python",
   "name": "python",
   "nbconvert_exporter": "python",
   "pygments_lexer": "ipython3",
   "version": "3.9.13"
  },
  "orig_nbformat": 4
 },
 "nbformat": 4,
 "nbformat_minor": 2
}
